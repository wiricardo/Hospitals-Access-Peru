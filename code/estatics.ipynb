{
 "cells": [
  {
   "cell_type": "markdown",
   "id": "0da550df",
   "metadata": {},
   "source": [
    "# Libraries"
   ]
  },
  {
   "cell_type": "code",
   "execution_count": 5,
   "id": "85c83946",
   "metadata": {},
   "outputs": [],
   "source": [
    "import pandas as pd\n",
    "from pandas import Series, DataFrame\n",
    "import numpy as np\n",
    "import matplotlib.pyplot as plt \n",
    "import chardet"
   ]
  },
  {
   "cell_type": "code",
   "execution_count": 6,
   "id": "2f653476",
   "metadata": {},
   "outputs": [],
   "source": [
    "import geopandas as gpd\n",
    "from geopandas import GeoSeries\n",
    "from shapely.geometry import Point, LineString\n",
    "import folium \n",
    "from folium import Marker, GeoJson\n",
    "from folium.plugins import MarkerCluster, HeatMap"
   ]
  },
  {
   "cell_type": "code",
   "execution_count": 2,
   "id": "4ad418e2",
   "metadata": {},
   "outputs": [
    {
     "data": {
      "text/plain": [
       "'/Users/ricardo/Documents/GitHub/Hospitals-Access-Peru/code'"
      ]
     },
     "execution_count": 2,
     "metadata": {},
     "output_type": "execute_result"
    }
   ],
   "source": [
    "pwd"
   ]
  },
  {
   "cell_type": "markdown",
   "id": "0ddbf8d1",
   "metadata": {},
   "source": [
    "### Reading, handling and processing IPRESS.csv"
   ]
  },
  {
   "cell_type": "code",
   "execution_count": 26,
   "id": "32b7b95c",
   "metadata": {},
   "outputs": [
    {
     "data": {
      "text/plain": [
       "'MacRoman'"
      ]
     },
     "execution_count": 26,
     "metadata": {},
     "output_type": "execute_result"
    }
   ],
   "source": [
    "base = open('../data/IPRESS.csv', 'rb').read()\n",
    "det = chardet.detect(base)\n",
    "charenc = det['encoding']\n",
    "charenc"
   ]
  },
  {
   "cell_type": "code",
   "execution_count": 35,
   "id": "82e27523",
   "metadata": {},
   "outputs": [],
   "source": [
    "csv_data = pd.read_csv('../data/IPRESS.csv', encoding=charenc)\n"
   ]
  },
  {
   "cell_type": "code",
   "execution_count": 36,
   "id": "696af7c7",
   "metadata": {},
   "outputs": [
    {
     "data": {
      "text/html": [
       "<div>\n",
       "<style scoped>\n",
       "    .dataframe tbody tr th:only-of-type {\n",
       "        vertical-align: middle;\n",
       "    }\n",
       "\n",
       "    .dataframe tbody tr th {\n",
       "        vertical-align: top;\n",
       "    }\n",
       "\n",
       "    .dataframe thead th {\n",
       "        text-align: right;\n",
       "    }\n",
       "</style>\n",
       "<table border=\"1\" class=\"dataframe\">\n",
       "  <thead>\n",
       "    <tr style=\"text-align: right;\">\n",
       "      <th></th>\n",
       "      <th>INSTITUCIÓN</th>\n",
       "      <th>NOMBRE DEL ESTABLECIMIENTO</th>\n",
       "      <th>CLASIFICACION</th>\n",
       "      <th>DEPARTAMENTO</th>\n",
       "      <th>PROVINCIA</th>\n",
       "      <th>DISTRITO</th>\n",
       "      <th>ESTADO</th>\n",
       "      <th>LATITUD</th>\n",
       "      <th>LONGITUD</th>\n",
       "    </tr>\n",
       "  </thead>\n",
       "  <tbody>\n",
       "    <tr>\n",
       "      <th>1</th>\n",
       "      <td>GOBIERNO REGIONAL</td>\n",
       "      <td>AMBATO</td>\n",
       "      <td>PUESTOS DE SALUD O POSTAS DE SALUD</td>\n",
       "      <td>CAJAMARCA</td>\n",
       "      <td>CUTERVO</td>\n",
       "      <td>SANTA CRUZ</td>\n",
       "      <td>ACTIVADO</td>\n",
       "      <td>-78.858380</td>\n",
       "      <td>-6.133523</td>\n",
       "    </tr>\n",
       "    <tr>\n",
       "      <th>2</th>\n",
       "      <td>GOBIERNO REGIONAL</td>\n",
       "      <td>SANTA ISABEL DE YUMBATURO</td>\n",
       "      <td>PUESTOS DE SALUD O POSTAS DE SALUD</td>\n",
       "      <td>LORETO</td>\n",
       "      <td>LORETO</td>\n",
       "      <td>PARINARI</td>\n",
       "      <td>ACTIVADO</td>\n",
       "      <td>-74.258139</td>\n",
       "      <td>-4.581509</td>\n",
       "    </tr>\n",
       "    <tr>\n",
       "      <th>6</th>\n",
       "      <td>MINSA</td>\n",
       "      <td>PUESTO DE SALUD HEROES DEL CENEPA</td>\n",
       "      <td>PUESTOS DE SALUD O POSTAS DE SALUD</td>\n",
       "      <td>LIMA</td>\n",
       "      <td>LIMA</td>\n",
       "      <td>VILLA EL SALVADOR</td>\n",
       "      <td>ACTIVADO</td>\n",
       "      <td>-76.930608</td>\n",
       "      <td>-12.248699</td>\n",
       "    </tr>\n",
       "    <tr>\n",
       "      <th>12</th>\n",
       "      <td>GOBIERNO REGIONAL</td>\n",
       "      <td>NUEVA BETANIA</td>\n",
       "      <td>PUESTOS DE SALUD O POSTAS DE SALUD</td>\n",
       "      <td>UCAYALI</td>\n",
       "      <td>CORONEL PORTILLO</td>\n",
       "      <td>CALLERIA</td>\n",
       "      <td>ACTIVADO</td>\n",
       "      <td>-74.296531</td>\n",
       "      <td>-8.398366</td>\n",
       "    </tr>\n",
       "    <tr>\n",
       "      <th>15</th>\n",
       "      <td>GOBIERNO REGIONAL</td>\n",
       "      <td>PONGO ISLA</td>\n",
       "      <td>PUESTOS DE SALUD O POSTAS DE SALUD</td>\n",
       "      <td>SAN MARTIN</td>\n",
       "      <td>SAN MARTIN</td>\n",
       "      <td>HUIMBAYOC</td>\n",
       "      <td>ACTIVADO</td>\n",
       "      <td>-75.885812</td>\n",
       "      <td>-6.438298</td>\n",
       "    </tr>\n",
       "  </tbody>\n",
       "</table>\n",
       "</div>"
      ],
      "text/plain": [
       "          INSTITUCIÓN         NOMBRE DEL ESTABLECIMIENTO  \\\n",
       "1   GOBIERNO REGIONAL                             AMBATO   \n",
       "2   GOBIERNO REGIONAL          SANTA ISABEL DE YUMBATURO   \n",
       "6               MINSA  PUESTO DE SALUD HEROES DEL CENEPA   \n",
       "12  GOBIERNO REGIONAL                      NUEVA BETANIA   \n",
       "15  GOBIERNO REGIONAL                         PONGO ISLA   \n",
       "\n",
       "                         CLASIFICACION DEPARTAMENTO         PROVINCIA  \\\n",
       "1   PUESTOS DE SALUD O POSTAS DE SALUD    CAJAMARCA           CUTERVO   \n",
       "2   PUESTOS DE SALUD O POSTAS DE SALUD       LORETO            LORETO   \n",
       "6   PUESTOS DE SALUD O POSTAS DE SALUD         LIMA              LIMA   \n",
       "12  PUESTOS DE SALUD O POSTAS DE SALUD      UCAYALI  CORONEL PORTILLO   \n",
       "15  PUESTOS DE SALUD O POSTAS DE SALUD   SAN MARTIN        SAN MARTIN   \n",
       "\n",
       "             DISTRITO    ESTADO    LATITUD   LONGITUD  \n",
       "1          SANTA CRUZ  ACTIVADO -78.858380  -6.133523  \n",
       "2            PARINARI  ACTIVADO -74.258139  -4.581509  \n",
       "6   VILLA EL SALVADOR  ACTIVADO -76.930608 -12.248699  \n",
       "12           CALLERIA  ACTIVADO -74.296531  -8.398366  \n",
       "15          HUIMBAYOC  ACTIVADO -75.885812  -6.438298  "
      ]
     },
     "execution_count": 36,
     "metadata": {},
     "output_type": "execute_result"
    }
   ],
   "source": [
    "csv_data = csv_data[['InstituciÛn', 'Nombre del establecimiento', 'ClasificaciÛn', 'Departamento', 'Provincia', 'Distrito', 'Estado' ,'NORTE' ,'ESTE']]\n",
    "csv_data.rename(columns={'InstituciÛn':'INSTITUCIÓN', 'Nombre del establecimiento': 'NOMBRE DEL ESTABLECIMIENTO', 'ClasificaciÛn':'CLASIFICACION', 'Departamento':'DEPARTAMENTO', 'Provincia':'PROVINCIA', 'Distrito':'DISTRITO', 'Estado':'ESTADO' ,'NORTE':'LATITUD' ,'ESTE':'LONGITUD'}, inplace=True)\n",
    "cleaned_csv = csv_data.loc[csv_data['ESTADO'] == 'ACTIVADO'].dropna(subset=['LATITUD', 'LONGITUD'])\n",
    "cleaned_csv.head()"
   ]
  },
  {
   "cell_type": "code",
   "execution_count": 37,
   "id": "e263d39d",
   "metadata": {},
   "outputs": [
    {
     "name": "stdout",
     "output_type": "stream",
     "text": [
      "<class 'pandas.core.frame.DataFrame'>\n",
      "Index: 7956 entries, 1 to 20818\n",
      "Data columns (total 9 columns):\n",
      " #   Column                      Non-Null Count  Dtype  \n",
      "---  ------                      --------------  -----  \n",
      " 0   INSTITUCIÓN                 7956 non-null   object \n",
      " 1   NOMBRE DEL ESTABLECIMIENTO  7956 non-null   object \n",
      " 2   CLASIFICACION               7951 non-null   object \n",
      " 3   DEPARTAMENTO                7956 non-null   object \n",
      " 4   PROVINCIA                   7956 non-null   object \n",
      " 5   DISTRITO                    7956 non-null   object \n",
      " 6   ESTADO                      7956 non-null   object \n",
      " 7   LATITUD                     7956 non-null   float64\n",
      " 8   LONGITUD                    7956 non-null   float64\n",
      "dtypes: float64(2), object(7)\n",
      "memory usage: 621.6+ KB\n"
     ]
    }
   ],
   "source": [
    "cleaned_csv.info()"
   ]
  }
 ],
 "metadata": {
  "kernelspec": {
   "display_name": "geoespatial_analysis",
   "language": "python",
   "name": "python3"
  },
  "language_info": {
   "codemirror_mode": {
    "name": "ipython",
    "version": 3
   },
   "file_extension": ".py",
   "mimetype": "text/x-python",
   "name": "python",
   "nbconvert_exporter": "python",
   "pygments_lexer": "ipython3",
   "version": "3.13.7"
  }
 },
 "nbformat": 4,
 "nbformat_minor": 5
}
