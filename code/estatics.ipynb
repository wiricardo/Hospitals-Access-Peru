{
 "cells": [
  {
   "cell_type": "markdown",
   "id": "0da550df",
   "metadata": {},
   "source": [
    "# Libraries"
   ]
  },
  {
   "cell_type": "code",
   "execution_count": 5,
   "id": "85c83946",
   "metadata": {},
   "outputs": [],
   "source": [
    "import pandas as pd\n",
    "from pandas import Series, DataFrame\n",
    "import numpy as np\n",
    "import matplotlib.pyplot as plt \n",
    "import chardet"
   ]
  },
  {
   "cell_type": "code",
   "execution_count": 6,
   "id": "2f653476",
   "metadata": {},
   "outputs": [],
   "source": [
    "import geopandas as gpd\n",
    "from geopandas import GeoSeries\n",
    "from shapely.geometry import Point, LineString\n",
    "import folium \n",
    "from folium import Marker, GeoJson\n",
    "from folium.plugins import MarkerCluster, HeatMap"
   ]
  },
  {
   "cell_type": "code",
   "execution_count": 2,
   "id": "4ad418e2",
   "metadata": {},
   "outputs": [
    {
     "data": {
      "text/plain": [
       "'/Users/ricardo/Documents/GitHub/Hospitals-Access-Peru/code'"
      ]
     },
     "execution_count": 2,
     "metadata": {},
     "output_type": "execute_result"
    }
   ],
   "source": [
    "pwd"
   ]
  },
  {
   "cell_type": "markdown",
   "id": "0ddbf8d1",
   "metadata": {},
   "source": [
    "### Reading, handling and processing IPRESS.csv"
   ]
  },
  {
   "cell_type": "code",
   "execution_count": 9,
   "id": "32b7b95c",
   "metadata": {},
   "outputs": [
    {
     "data": {
      "text/plain": [
       "'MacRoman'"
      ]
     },
     "execution_count": 9,
     "metadata": {},
     "output_type": "execute_result"
    }
   ],
   "source": [
    "base = open('../data/IPRESS.csv', 'rb').read()\n",
    "det = chardet.detect(base)\n",
    "charenc = det['encoding']\n",
    "charenc"
   ]
  },
  {
   "cell_type": "code",
   "execution_count": 21,
   "id": "82e27523",
   "metadata": {},
   "outputs": [],
   "source": [
    "csv_data = pd.read_csv('../data/IPRESS.csv', encoding=charenc)\n"
   ]
  },
  {
   "cell_type": "code",
   "execution_count": 23,
   "id": "696af7c7",
   "metadata": {},
   "outputs": [
    {
     "data": {
      "text/html": [
       "<div>\n",
       "<style scoped>\n",
       "    .dataframe tbody tr th:only-of-type {\n",
       "        vertical-align: middle;\n",
       "    }\n",
       "\n",
       "    .dataframe tbody tr th {\n",
       "        vertical-align: top;\n",
       "    }\n",
       "\n",
       "    .dataframe thead th {\n",
       "        text-align: right;\n",
       "    }\n",
       "</style>\n",
       "<table border=\"1\" class=\"dataframe\">\n",
       "  <thead>\n",
       "    <tr style=\"text-align: right;\">\n",
       "      <th></th>\n",
       "      <th>INSTITUCIÓN</th>\n",
       "      <th>NOMBRE DEL ESTABLECIMIENTO</th>\n",
       "      <th>CLASIFICACION</th>\n",
       "      <th>DEPARTAMENTO</th>\n",
       "      <th>PROVINCIA</th>\n",
       "      <th>DISTRITO</th>\n",
       "      <th>ESTADO</th>\n",
       "      <th>LATITUD</th>\n",
       "      <th>LONGITUD</th>\n",
       "    </tr>\n",
       "  </thead>\n",
       "  <tbody>\n",
       "    <tr>\n",
       "      <th>0</th>\n",
       "      <td>PRIVADO</td>\n",
       "      <td>SONRIE MAS</td>\n",
       "      <td>CONSULTORIOS MEDICOS Y DE OTROS PROFESIONALES ...</td>\n",
       "      <td>LIMA</td>\n",
       "      <td>LIMA</td>\n",
       "      <td>SANTIAGO DE SURCO</td>\n",
       "      <td>ACTIVADO</td>\n",
       "      <td>NaN</td>\n",
       "      <td>NaN</td>\n",
       "    </tr>\n",
       "    <tr>\n",
       "      <th>1</th>\n",
       "      <td>GOBIERNO REGIONAL</td>\n",
       "      <td>AMBATO</td>\n",
       "      <td>PUESTOS DE SALUD O POSTAS DE SALUD</td>\n",
       "      <td>CAJAMARCA</td>\n",
       "      <td>CUTERVO</td>\n",
       "      <td>SANTA CRUZ</td>\n",
       "      <td>ACTIVADO</td>\n",
       "      <td>-78.858380</td>\n",
       "      <td>-6.133523</td>\n",
       "    </tr>\n",
       "    <tr>\n",
       "      <th>2</th>\n",
       "      <td>GOBIERNO REGIONAL</td>\n",
       "      <td>SANTA ISABEL DE YUMBATURO</td>\n",
       "      <td>PUESTOS DE SALUD O POSTAS DE SALUD</td>\n",
       "      <td>LORETO</td>\n",
       "      <td>LORETO</td>\n",
       "      <td>PARINARI</td>\n",
       "      <td>ACTIVADO</td>\n",
       "      <td>-74.258139</td>\n",
       "      <td>-4.581509</td>\n",
       "    </tr>\n",
       "    <tr>\n",
       "      <th>3</th>\n",
       "      <td>PRIVADO</td>\n",
       "      <td>DENTOCAPLINA</td>\n",
       "      <td>CONSULTORIOS MEDICOS Y DE OTROS PROFESIONALES ...</td>\n",
       "      <td>TACNA</td>\n",
       "      <td>TACNA</td>\n",
       "      <td>TACNA</td>\n",
       "      <td>ACTIVADO</td>\n",
       "      <td>NaN</td>\n",
       "      <td>NaN</td>\n",
       "    </tr>\n",
       "    <tr>\n",
       "      <th>4</th>\n",
       "      <td>OTRO</td>\n",
       "      <td>MEDICO DE FAMILIA MANTARA</td>\n",
       "      <td>PUESTOS DE SALUD O POSTAS DE SALUD</td>\n",
       "      <td>JUNIN</td>\n",
       "      <td>TARMA</td>\n",
       "      <td>TARMA</td>\n",
       "      <td>ACTIVADO</td>\n",
       "      <td>NaN</td>\n",
       "      <td>NaN</td>\n",
       "    </tr>\n",
       "  </tbody>\n",
       "</table>\n",
       "</div>"
      ],
      "text/plain": [
       "         INSTITUCIÓN NOMBRE DEL ESTABLECIMIENTO  \\\n",
       "0            PRIVADO                 SONRIE MAS   \n",
       "1  GOBIERNO REGIONAL                     AMBATO   \n",
       "2  GOBIERNO REGIONAL  SANTA ISABEL DE YUMBATURO   \n",
       "3            PRIVADO               DENTOCAPLINA   \n",
       "4               OTRO  MEDICO DE FAMILIA MANTARA   \n",
       "\n",
       "                                       CLASIFICACION DEPARTAMENTO PROVINCIA  \\\n",
       "0  CONSULTORIOS MEDICOS Y DE OTROS PROFESIONALES ...         LIMA      LIMA   \n",
       "1                 PUESTOS DE SALUD O POSTAS DE SALUD    CAJAMARCA   CUTERVO   \n",
       "2                 PUESTOS DE SALUD O POSTAS DE SALUD       LORETO    LORETO   \n",
       "3  CONSULTORIOS MEDICOS Y DE OTROS PROFESIONALES ...        TACNA     TACNA   \n",
       "4                 PUESTOS DE SALUD O POSTAS DE SALUD        JUNIN     TARMA   \n",
       "\n",
       "            DISTRITO    ESTADO    LATITUD  LONGITUD  \n",
       "0  SANTIAGO DE SURCO  ACTIVADO        NaN       NaN  \n",
       "1         SANTA CRUZ  ACTIVADO -78.858380 -6.133523  \n",
       "2           PARINARI  ACTIVADO -74.258139 -4.581509  \n",
       "3              TACNA  ACTIVADO        NaN       NaN  \n",
       "4              TARMA  ACTIVADO        NaN       NaN  "
      ]
     },
     "execution_count": 23,
     "metadata": {},
     "output_type": "execute_result"
    }
   ],
   "source": [
    "csv_data = csv_data[['InstituciÛn', 'Nombre del establecimiento', 'ClasificaciÛn', 'Departamento', 'Provincia', 'Distrito', 'Estado' ,'NORTE' ,'ESTE']]\n",
    "csv_data.rename(columns={'InstituciÛn':'INSTITUCIÓN', 'Nombre del establecimiento': 'NOMBRE DEL ESTABLECIMIENTO', 'ClasificaciÛn':'CLASIFICACION', 'Departamento':'DEPARTAMENTO', 'Provincia':'PROVINCIA', 'Distrito':'DISTRITO', 'Estado':'ESTADO' ,'NORTE':'LATITUD' ,'ESTE':'LONGITUD'}, inplace=True)\n",
    "csv_data.head()"
   ]
  },
  {
   "cell_type": "code",
   "execution_count": null,
   "id": "ec63505a",
   "metadata": {},
   "outputs": [],
   "source": []
  }
 ],
 "metadata": {
  "kernelspec": {
   "display_name": "geoespatial_analysis",
   "language": "python",
   "name": "python3"
  },
  "language_info": {
   "codemirror_mode": {
    "name": "ipython",
    "version": 3
   },
   "file_extension": ".py",
   "mimetype": "text/x-python",
   "name": "python",
   "nbconvert_exporter": "python",
   "pygments_lexer": "ipython3",
   "version": "3.13.7"
  }
 },
 "nbformat": 4,
 "nbformat_minor": 5
}
